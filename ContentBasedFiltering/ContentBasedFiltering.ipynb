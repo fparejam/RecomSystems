{
 "cells": [
  {
   "cell_type": "markdown",
   "id": "61bdeb02",
   "metadata": {},
   "source": [
    "# Content based recommendation filtering\n",
    "\n",
    "Code adaptation from https://medium.com/mlearning-ai/basic-content-based-recommendation-system-with-python-code-be920b412067"
   ]
  },
  {
   "cell_type": "markdown",
   "id": "22433465",
   "metadata": {},
   "source": [
    "## Overview:\n",
    "\n",
    "1. Read the movie data from a CSV file using pandas.\n",
    "\n",
    "2. Preprocess the movie data by removing rows with missing Plot values.\n",
    "3. Create a TfidfVectorizer object to generate a term frequency-inverse document frequency (TF-IDF) matrix based on the Plot column of the movie data.\n",
    "4. Use the fit_transform method of the TfidfVectorizer object to generate the TF-IDF matrix.\n",
    "5. Use the linear_kernel function from scikit-learn to calculate the cosine similarity between each pair of movies based on their TF-IDF matrices.\n",
    "6. Define a get_recommendations function that takes a movie title and number of recommendations as input, and returns a list of recommended movies based on the cosine similarity scores of the input movie.\n",
    "7. In the get_recommendations function, use the indices variable to get the index of the input movie, and the cosine similarity scores to find the most similar movies.\n",
    "8. Return the titles of the recommended movies."
   ]
  },
  {
   "cell_type": "code",
   "execution_count": 99,
   "id": "7c4c82b4",
   "metadata": {},
   "outputs": [
    {
     "data": {
      "text/plain": [
       "['Die Another Day',\n",
       " 'Quantum of Solace',\n",
       " 'Skyfall',\n",
       " 'Casino Royale',\n",
       " 'GoldenEye',\n",
       " 'The Prince of Egypt',\n",
       " 'Tomorrow Never Dies',\n",
       " 'V for Vendetta',\n",
       " 'Hard Rain',\n",
       " 'National Treasure',\n",
       " 'Resident Evil: Apocalypse',\n",
       " 'Hercules',\n",
       " 'Hercules',\n",
       " 'Sky Captain and the World of Tomorrow',\n",
       " 'Cinderella Man',\n",
       " 'Superman Returns',\n",
       " 'Poseidon',\n",
       " 'Real Steel',\n",
       " 'X-Men: Apocalypse',\n",
       " 'End of Days']"
      ]
     },
     "execution_count": 99,
     "metadata": {},
     "output_type": "execute_result"
    }
   ],
   "source": [
    "import pandas as pd\n",
    "from sklearn.feature_extraction.text import TfidfVectorizer\n",
    "from sklearn.metrics.pairwise import linear_kernel\n",
    "\n",
    "df = pd.read_csv('../Data wrangling/merged_movie_data_success.csv')\n",
    "df = df[df['Plot'].notna()]\n",
    "\n",
    "# Create a TfidfVectorizer\n",
    "tfidf = TfidfVectorizer()\n",
    "# Fit and transform the data to a tfidf matrix\n",
    "tfidf_matrix = tfidf.fit_transform(df['Plot'])\n",
    "\n",
    "#Create matrix for movie similarities based on tfidf interactions between movies\n",
    "cosine_sim = linear_kernel(tfidf_matrix, tfidf_matrix)\n",
    "indices = pd.Series(df.index, index=df['Title']).drop_duplicates()\n",
    "\n",
    "def get_recommendations(title, cosine_sim=cosine_sim, num_recommend=10):\n",
    "    idx = indices[title]\n",
    "    # Get the pairwsie similarity scores of all movies with that movie\n",
    "    sim_scores = list(enumerate(cosine_sim[idx]))\n",
    "    # Sort the movies based on the similarity scores\n",
    "    sim_scores = sorted(sim_scores, key=lambda x: x[1], reverse=True)\n",
    "    # Get the scores of the 10 most similar movies\n",
    "    top_similar = sim_scores[1:num_recommend+1]\n",
    "    # Get the movie indices\n",
    "    movie_indices = [i[0] for i in top_similar]\n",
    "    # Return the top 10 most similar movies\n",
    "    final_recommendation = list(df['Title'].iloc[movie_indices])\n",
    "    return final_recommendation\n",
    "\n",
    "get_recommendations('Spectre', num_recommend=20)\n"
   ]
  },
  {
   "cell_type": "markdown",
   "id": "3bfe75c1",
   "metadata": {},
   "source": [
    "Let's refactor the code so we can make a recommendation for a combined number of movies, like a \"profile based\" recommendation."
   ]
  },
  {
   "cell_type": "code",
   "execution_count": 104,
   "id": "063921cb",
   "metadata": {},
   "outputs": [
    {
     "data": {
      "text/plain": [
       "['Salt',\n",
       " 'Shrek the Third',\n",
       " 'Shrek 2',\n",
       " 'V for Vendetta',\n",
       " 'Skyfall',\n",
       " 'Quantum of Solace',\n",
       " 'Mirror Mirror',\n",
       " 'RED 2',\n",
       " 'Shrek',\n",
       " 'Hercules',\n",
       " 'Hercules',\n",
       " 'Die Another Day']"
      ]
     },
     "execution_count": 104,
     "metadata": {},
     "output_type": "execute_result"
    }
   ],
   "source": [
    "def get_combined_recommendations(movie_list, num_recommend=10):\n",
    "    df_movies = pd.read_csv('../Data wrangling/merged_movie_data_success.csv')\n",
    "    df_movies = df_movies[df_movies['Plot'].notna()]\n",
    "\n",
    "    # Create a TfidfVectorizer and remove stopwords\n",
    "    tfidf = TfidfVectorizer()\n",
    "    # Fit and transform the data to a tfidf matrix\n",
    "    tfidf_matrix = tfidf.fit_transform(df_movies['Plot'])\n",
    "\n",
    "    # Calculate the cosine similarity between all movies\n",
    "    cosine_sim = cosine_similarity(tfidf_matrix)\n",
    "\n",
    "    # Initialize an empty array to store the combined similarity scores\n",
    "    combined_sim_scores = np.zeros(cosine_sim.shape[0])\n",
    "\n",
    "    # Calculate the combined similarity scores for all input movies\n",
    "    for movie_title in movie_list:\n",
    "        idx = df_movies[df_movies['Title'] == movie_title].index[0]\n",
    "        sim_scores = cosine_sim[idx]\n",
    "        combined_sim_scores += sim_scores\n",
    "\n",
    "    # Sort the movies based on the combined similarity scores\n",
    "    sim_scores = list(enumerate(combined_sim_scores))\n",
    "    sim_scores = sorted(sim_scores, key=lambda x: x[1], reverse=True)\n",
    "\n",
    "    # Get the indices of the top `num_recommend` recommended movies\n",
    "    movie_indices = [i[0] for i in sim_scores[1:num_recommend+len(movie_list)]]\n",
    "\n",
    "    # Remove the input movies from the recommended movies\n",
    "    recommended_movies = []\n",
    "    for i in movie_indices:\n",
    "        if df_movies['Title'].iloc[i] not in movie_list:\n",
    "            recommended_movies.append(df_movies['Title'].iloc[i])\n",
    "\n",
    "    # Return the top `num_recommend` most similar movies\n",
    "    return recommended_movies\n",
    "\n",
    "\n",
    "test_movie_list = ['Puss in Boots', 'Alice Through the Looking Glass', 'Spectre']\n",
    "get_combined_recommendations(test_movie_list, num_recommend = 10)"
   ]
  }
 ],
 "metadata": {
  "kernelspec": {
   "display_name": "Python 3 (ipykernel)",
   "language": "python",
   "name": "python3"
  },
  "language_info": {
   "codemirror_mode": {
    "name": "ipython",
    "version": 3
   },
   "file_extension": ".py",
   "mimetype": "text/x-python",
   "name": "python",
   "nbconvert_exporter": "python",
   "pygments_lexer": "ipython3",
   "version": "3.8.11"
  }
 },
 "nbformat": 4,
 "nbformat_minor": 5
}
